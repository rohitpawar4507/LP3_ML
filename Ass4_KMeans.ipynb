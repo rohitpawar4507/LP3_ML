{
  "nbformat": 4,
  "nbformat_minor": 0,
  "metadata": {
    "colab": {
      "name": "Ass4_KMeans.ipynb",
      "provenance": [],
      "collapsed_sections": [],
      "authorship_tag": "ABX9TyPa/BwZJNuC2jTdkhI2Rfbh",
      "include_colab_link": true
    },
    "kernelspec": {
      "name": "python3",
      "display_name": "Python 3"
    },
    "language_info": {
      "name": "python"
    }
  },
  "cells": [
    {
      "cell_type": "markdown",
      "metadata": {
        "id": "view-in-github",
        "colab_type": "text"
      },
      "source": [
        "<a href=\"https://colab.research.google.com/github/rohitpawar4507/LP3_ML/blob/main/Ass4_KMeans.ipynb\" target=\"_parent\"><img src=\"https://colab.research.google.com/assets/colab-badge.svg\" alt=\"Open In Colab\"/></a>"
      ]
    },
    {
      "cell_type": "code",
      "execution_count": 22,
      "metadata": {
        "id": "Ezy1EwQIn3Bq"
      },
      "outputs": [],
      "source": [
        "# Assignment 4\n",
        "#  Assignment on K-Means Clustering:\n",
        "# @ Rohit Pawar "
      ]
    },
    {
      "cell_type": "code",
      "source": [
        "#Load the required Libraries \n",
        "import numpy as np\n",
        "import pandas as pd\n",
        "from copy import deepcopy\n",
        "from matplotlib import pyplot as plt\n",
        "%matplotlib inline"
      ],
      "metadata": {
        "id": "nwNHO3CTn93C"
      },
      "execution_count": 23,
      "outputs": []
    },
    {
      "cell_type": "code",
      "source": [
        "#Given Dataset\n",
        "dataset = {\n",
        "'Points':['P1','P2','P3','P4','P5','P6','P7','P8',],\n",
        "'x_coordinate':[0.1,0.15,0.08,0.16,0.2,0.25,0.24,0.3],\n",
        "'y_coordinate':[0.6,0.71,0.9,0.85,0.3,0.5,0.1,0.2]\n",
        "}"
      ],
      "metadata": {
        "id": "-g3Go61WoDt9"
      },
      "execution_count": 24,
      "outputs": []
    },
    {
      "cell_type": "code",
      "source": [
        "#dataframe\n",
        "df = pd.DataFrame(dataset,columns=['Points','x_coordinate','y_coordinate'])"
      ],
      "metadata": {
        "id": "xLpmfd_GoMBW"
      },
      "execution_count": 25,
      "outputs": []
    },
    {
      "cell_type": "code",
      "source": [
        "df #print dataset"
      ],
      "metadata": {
        "colab": {
          "base_uri": "https://localhost:8080/",
          "height": 300
        },
        "id": "YUsZuoSroPk1",
        "outputId": "6bb0559c-fb46-4938-eb29-d0b424ff125b"
      },
      "execution_count": 26,
      "outputs": [
        {
          "output_type": "execute_result",
          "data": {
            "text/plain": [
              "  Points  x_coordinate  y_coordinate\n",
              "0     P1          0.10          0.60\n",
              "1     P2          0.15          0.71\n",
              "2     P3          0.08          0.90\n",
              "3     P4          0.16          0.85\n",
              "4     P5          0.20          0.30\n",
              "5     P6          0.25          0.50\n",
              "6     P7          0.24          0.10\n",
              "7     P8          0.30          0.20"
            ],
            "text/html": [
              "\n",
              "  <div id=\"df-2fb944c8-ab0e-46f1-ac7a-be319c110d4e\">\n",
              "    <div class=\"colab-df-container\">\n",
              "      <div>\n",
              "<style scoped>\n",
              "    .dataframe tbody tr th:only-of-type {\n",
              "        vertical-align: middle;\n",
              "    }\n",
              "\n",
              "    .dataframe tbody tr th {\n",
              "        vertical-align: top;\n",
              "    }\n",
              "\n",
              "    .dataframe thead th {\n",
              "        text-align: right;\n",
              "    }\n",
              "</style>\n",
              "<table border=\"1\" class=\"dataframe\">\n",
              "  <thead>\n",
              "    <tr style=\"text-align: right;\">\n",
              "      <th></th>\n",
              "      <th>Points</th>\n",
              "      <th>x_coordinate</th>\n",
              "      <th>y_coordinate</th>\n",
              "    </tr>\n",
              "  </thead>\n",
              "  <tbody>\n",
              "    <tr>\n",
              "      <th>0</th>\n",
              "      <td>P1</td>\n",
              "      <td>0.10</td>\n",
              "      <td>0.60</td>\n",
              "    </tr>\n",
              "    <tr>\n",
              "      <th>1</th>\n",
              "      <td>P2</td>\n",
              "      <td>0.15</td>\n",
              "      <td>0.71</td>\n",
              "    </tr>\n",
              "    <tr>\n",
              "      <th>2</th>\n",
              "      <td>P3</td>\n",
              "      <td>0.08</td>\n",
              "      <td>0.90</td>\n",
              "    </tr>\n",
              "    <tr>\n",
              "      <th>3</th>\n",
              "      <td>P4</td>\n",
              "      <td>0.16</td>\n",
              "      <td>0.85</td>\n",
              "    </tr>\n",
              "    <tr>\n",
              "      <th>4</th>\n",
              "      <td>P5</td>\n",
              "      <td>0.20</td>\n",
              "      <td>0.30</td>\n",
              "    </tr>\n",
              "    <tr>\n",
              "      <th>5</th>\n",
              "      <td>P6</td>\n",
              "      <td>0.25</td>\n",
              "      <td>0.50</td>\n",
              "    </tr>\n",
              "    <tr>\n",
              "      <th>6</th>\n",
              "      <td>P7</td>\n",
              "      <td>0.24</td>\n",
              "      <td>0.10</td>\n",
              "    </tr>\n",
              "    <tr>\n",
              "      <th>7</th>\n",
              "      <td>P8</td>\n",
              "      <td>0.30</td>\n",
              "      <td>0.20</td>\n",
              "    </tr>\n",
              "  </tbody>\n",
              "</table>\n",
              "</div>\n",
              "      <button class=\"colab-df-convert\" onclick=\"convertToInteractive('df-2fb944c8-ab0e-46f1-ac7a-be319c110d4e')\"\n",
              "              title=\"Convert this dataframe to an interactive table.\"\n",
              "              style=\"display:none;\">\n",
              "        \n",
              "  <svg xmlns=\"http://www.w3.org/2000/svg\" height=\"24px\"viewBox=\"0 0 24 24\"\n",
              "       width=\"24px\">\n",
              "    <path d=\"M0 0h24v24H0V0z\" fill=\"none\"/>\n",
              "    <path d=\"M18.56 5.44l.94 2.06.94-2.06 2.06-.94-2.06-.94-.94-2.06-.94 2.06-2.06.94zm-11 1L8.5 8.5l.94-2.06 2.06-.94-2.06-.94L8.5 2.5l-.94 2.06-2.06.94zm10 10l.94 2.06.94-2.06 2.06-.94-2.06-.94-.94-2.06-.94 2.06-2.06.94z\"/><path d=\"M17.41 7.96l-1.37-1.37c-.4-.4-.92-.59-1.43-.59-.52 0-1.04.2-1.43.59L10.3 9.45l-7.72 7.72c-.78.78-.78 2.05 0 2.83L4 21.41c.39.39.9.59 1.41.59.51 0 1.02-.2 1.41-.59l7.78-7.78 2.81-2.81c.8-.78.8-2.07 0-2.86zM5.41 20L4 18.59l7.72-7.72 1.47 1.35L5.41 20z\"/>\n",
              "  </svg>\n",
              "      </button>\n",
              "      \n",
              "  <style>\n",
              "    .colab-df-container {\n",
              "      display:flex;\n",
              "      flex-wrap:wrap;\n",
              "      gap: 12px;\n",
              "    }\n",
              "\n",
              "    .colab-df-convert {\n",
              "      background-color: #E8F0FE;\n",
              "      border: none;\n",
              "      border-radius: 50%;\n",
              "      cursor: pointer;\n",
              "      display: none;\n",
              "      fill: #1967D2;\n",
              "      height: 32px;\n",
              "      padding: 0 0 0 0;\n",
              "      width: 32px;\n",
              "    }\n",
              "\n",
              "    .colab-df-convert:hover {\n",
              "      background-color: #E2EBFA;\n",
              "      box-shadow: 0px 1px 2px rgba(60, 64, 67, 0.3), 0px 1px 3px 1px rgba(60, 64, 67, 0.15);\n",
              "      fill: #174EA6;\n",
              "    }\n",
              "\n",
              "    [theme=dark] .colab-df-convert {\n",
              "      background-color: #3B4455;\n",
              "      fill: #D2E3FC;\n",
              "    }\n",
              "\n",
              "    [theme=dark] .colab-df-convert:hover {\n",
              "      background-color: #434B5C;\n",
              "      box-shadow: 0px 1px 3px 1px rgba(0, 0, 0, 0.15);\n",
              "      filter: drop-shadow(0px 1px 2px rgba(0, 0, 0, 0.3));\n",
              "      fill: #FFFFFF;\n",
              "    }\n",
              "  </style>\n",
              "\n",
              "      <script>\n",
              "        const buttonEl =\n",
              "          document.querySelector('#df-2fb944c8-ab0e-46f1-ac7a-be319c110d4e button.colab-df-convert');\n",
              "        buttonEl.style.display =\n",
              "          google.colab.kernel.accessAllowed ? 'block' : 'none';\n",
              "\n",
              "        async function convertToInteractive(key) {\n",
              "          const element = document.querySelector('#df-2fb944c8-ab0e-46f1-ac7a-be319c110d4e');\n",
              "          const dataTable =\n",
              "            await google.colab.kernel.invokeFunction('convertToInteractive',\n",
              "                                                     [key], {});\n",
              "          if (!dataTable) return;\n",
              "\n",
              "          const docLinkHtml = 'Like what you see? Visit the ' +\n",
              "            '<a target=\"_blank\" href=https://colab.research.google.com/notebooks/data_table.ipynb>data table notebook</a>'\n",
              "            + ' to learn more about interactive tables.';\n",
              "          element.innerHTML = '';\n",
              "          dataTable['output_type'] = 'display_data';\n",
              "          await google.colab.output.renderOutput(dataTable, element);\n",
              "          const docLink = document.createElement('div');\n",
              "          docLink.innerHTML = docLinkHtml;\n",
              "          element.appendChild(docLink);\n",
              "        }\n",
              "      </script>\n",
              "    </div>\n",
              "  </div>\n",
              "  "
            ]
          },
          "metadata": {},
          "execution_count": 26
        }
      ]
    },
    {
      "cell_type": "code",
      "source": [
        "# Getting the values and plotting it\n",
        "f1 = df['x_coordinate'].values\n",
        "f2 = df['y_coordinate'].values\n",
        "X = np.array(list(zip(f1, f2)))\n",
        "plt.scatter(f1, f2, c='red', s=7)"
      ],
      "metadata": {
        "colab": {
          "base_uri": "https://localhost:8080/",
          "height": 283
        },
        "id": "qYfj3qzioQBX",
        "outputId": "ebf5ff3b-e4d1-4aaa-faf3-14827364c860"
      },
      "execution_count": 27,
      "outputs": [
        {
          "output_type": "execute_result",
          "data": {
            "text/plain": [
              "<matplotlib.collections.PathCollection at 0x7f478a47a210>"
            ]
          },
          "metadata": {},
          "execution_count": 27
        },
        {
          "output_type": "display_data",
          "data": {
            "text/plain": [
              "<Figure size 432x288 with 1 Axes>"
            ],
            "image/png": "[encoded data removed]"
          },
          "metadata": {
            "needs_background": "light"
          }
        }
      ]
    },
    {
      "cell_type": "code",
      "source": [
        "# Euclidean Distance Caculator\n",
        "def dist(a, b, ax=1):\n",
        "    return np.linalg.norm(a - b, axis=ax)"
      ],
      "metadata": {
        "id": "7-MGRV-noVXE"
      },
      "execution_count": 28,
      "outputs": []
    },
    {
      "cell_type": "code",
      "source": [
        "# Number of clusters\n",
        "k = 2\n",
        "# Two initia Centroids are given\n",
        "# m1 = P1\n",
        "# m2 = P8\n",
        "Centroid_m1 = list(X[0])\n",
        "Centroid_m2 = list(X[7])\n",
        "Centroids = np.array([Centroid_m1,Centroid_m2])\n",
        "print(Centroids)"
      ],
      "metadata": {
        "colab": {
          "base_uri": "https://localhost:8080/"
        },
        "id": "K_GxHvoGoYvR",
        "outputId": "c5d90918-0590-4519-e153-cd34997435dc"
      },
      "execution_count": 29,
      "outputs": [
        {
          "output_type": "stream",
          "name": "stdout",
          "text": [
            "[[0.1 0.6]\n",
            " [0.3 0.2]]\n"
          ]
        }
      ]
    },
    {
      "cell_type": "code",
      "source": [
        "# Plotting along with the Centroids\n",
        "plt.scatter(f1, f2, c='#050505', s=7)\n",
        "plt.scatter(Centroid_m1[0],Centroid_m1[1] ,marker='*', s=200, c='g')\n",
        "plt.scatter(Centroid_m2[0],Centroid_m2[1] ,marker='*', s=200, c='g')"
      ],
      "metadata": {
        "colab": {
          "base_uri": "https://localhost:8080/",
          "height": 283
        },
        "id": "tnaS_XCqobmI",
        "outputId": "76fba551-5e31-4cef-dffb-276ceaed3051"
      },
      "execution_count": 30,
      "outputs": [
        {
          "output_type": "execute_result",
          "data": {
            "text/plain": [
              "<matplotlib.collections.PathCollection at 0x7f478a4375d0>"
            ]
          },
          "metadata": {},
          "execution_count": 30
        },
        {
          "output_type": "display_data",
          "data": {
            "text/plain": [
              "<Figure size 432x288 with 1 Axes>"
            ],
            "image/png": "[encoded data removed]"
          },
          "metadata": {
            "needs_background": "light"
          }
        }
      ]
    },
    {
      "cell_type": "code",
      "source": [
        "# To store the value of centroids when it updates\n",
        "C_old = np.zeros(Centroids.shape)\n",
        "# Cluster Lables(0, 1, 2)\n",
        "clusters = np.zeros(len(X))\n",
        "# Error func. - Distance between new centroids and old centroids\n",
        "error = dist(Centroids, C_old, None)\n",
        "# Loop will run till the error becomes zero\n",
        "while error != 0:\n",
        "    # Assigning each value to its closest cluster\n",
        "    for i in range(len(X)):\n",
        "        distances = dist(X[i], Centroids)\n",
        "        cluster = np.argmin(distances)\n",
        "        clusters[i] = cluster\n",
        "    # Storing the old centroid values\n",
        "    C_old = deepcopy(Centroids)\n",
        "    print(C_old)\n",
        "    # Finding the new centroids by taking the average value\n",
        "    for i in range(k):\n",
        "        points = [X[j] for j in range(len(X)) if clusters[j] == i]\n",
        "        Centroids[i] = np.mean(points, axis=0)\n",
        "        print(Centroids[i])\n",
        "    error = dist(Centroids, C_old, None)"
      ],
      "metadata": {
        "colab": {
          "base_uri": "https://localhost:8080/"
        },
        "id": "kyufY7Lvofc2",
        "outputId": "414a9dec-1629-4fe8-f7d8-43483bf1e184"
      },
      "execution_count": 31,
      "outputs": [
        {
          "output_type": "stream",
          "name": "stdout",
          "text": [
            "[[0.1 0.6]\n",
            " [0.3 0.2]]\n",
            "[0.148 0.712]\n",
            "[0.24666667 0.2       ]\n",
            "[[0.148      0.712     ]\n",
            " [0.24666667 0.2       ]]\n",
            "[0.148 0.712]\n",
            "[0.24666667 0.2       ]\n"
          ]
        }
      ]
    },
    {
      "cell_type": "code",
      "source": [
        "colors = ['r', 'b']\n",
        "fig, ax = plt.subplots()\n",
        "print(\"New centroids are : \")\n",
        "print(Centroids[1])\n",
        "\n",
        "#print(\"**\")\n",
        "for i in range(k):\n",
        "        points = np.array([X[j] for j in range(len(X)) if clusters[j] == i])\n",
        "        print(\"For centroid\",i)\n",
        "        print(points)\n",
        "        ax.scatter(points[:, 0], points[:, 1], s=7, c=colors[i])\n",
        "\n",
        "ax.scatter(Centroids[:, 0], Centroids[:, 1], marker='*', s=200, c='#050505')"
      ],
      "metadata": {
        "colab": {
          "base_uri": "https://localhost:8080/",
          "height": 499
        },
        "id": "Y4v6uYu8ojMe",
        "outputId": "9f0cbad6-b06e-42d4-cb41-eead0c7b3962"
      },
      "execution_count": 32,
      "outputs": [
        {
          "output_type": "stream",
          "name": "stdout",
          "text": [
            "New centroids are : \n",
            "[0.24666667 0.2       ]\n",
            "For centroid 0\n",
            "[[0.1  0.6 ]\n",
            " [0.15 0.71]\n",
            " [0.08 0.9 ]\n",
            " [0.16 0.85]\n",
            " [0.25 0.5 ]]\n",
            "For centroid 1\n",
            "[[0.2  0.3 ]\n",
            " [0.24 0.1 ]\n",
            " [0.3  0.2 ]]\n"
          ]
        },
        {
          "output_type": "execute_result",
          "data": {
            "text/plain": [
              "<matplotlib.collections.PathCollection at 0x7f478a3a2890>"
            ]
          },
          "metadata": {},
          "execution_count": 32
        },
        {
          "output_type": "display_data",
          "data": {
            "text/plain": [
              "<Figure size 432x288 with 1 Axes>"
            ],
            "image/png": "[encoded data removed]"
          },
          "metadata": {
            "needs_background": "light"
          }
        }
      ]
    },
    {
      "cell_type": "code",
      "source": [
        "\"\"\"#updated value of m1 and m2 is:\n",
        "# Answer\n",
        "M1 = [0.2475  0.275]\n",
        "M2 = [0.1225  0.765]\"\"\""
      ],
      "metadata": {
        "colab": {
          "base_uri": "https://localhost:8080/",
          "height": 36
        },
        "id": "w9NrdvjYukAR",
        "outputId": "84c14227-854b-4ffe-805e-1690ee480d47"
      },
      "execution_count": 33,
      "outputs": [
        {
          "output_type": "execute_result",
          "data": {
            "text/plain": [
              "'#updated value of m1 and m2 is:\\n# Answer\\nM1 = [0.2475  0.275]\\nM2 = [0.1225  0.765]'"
            ],
            "application/vnd.google.colaboratory.intrinsic+json": {
              "type": "string"
            }
          },
          "metadata": {},
          "execution_count": 33
        }
      ]
    },
    {
      "cell_type": "code",
      "source": [
        ""
      ],
      "metadata": {
        "id": "CkeqqHWZu9NB"
      },
      "execution_count": null,
      "outputs": []
    }
  ]
}